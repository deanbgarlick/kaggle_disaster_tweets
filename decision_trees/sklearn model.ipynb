{
 "cells": [
  {
   "cell_type": "code",
   "execution_count": 14,
   "metadata": {},
   "outputs": [],
   "source": [
    "import matplotlib.pyplot as plt\n",
    "import pandas as pd\n",
    "\n",
    "from category_encoders.leave_one_out import LeaveOneOutEncoder\n",
    "from sklearn.calibration import CalibratedClassifierCV, calibration_curve\n",
    "from sklearn.compose import ColumnTransformer\n",
    "from sklearn.decomposition import TruncatedSVD, NMF\n",
    "from sklearn.ensemble import RandomForestClassifier, GradientBoostingClassifier\n",
    "from sklearn.linear_model import LogisticRegression, Perceptron\n",
    "from sklearn.metrics import accuracy_score, auc, plot_roc_curve, plot_precision_recall_curve\n",
    "from sklearn.model_selection import train_test_split, GridSearchCV\n",
    "from sklearn.naive_bayes import MultinomialNB, CategoricalNB\n",
    "from sklearn.pipeline import Pipeline, FeatureUnion\n",
    "from sklearn.preprocessing import FunctionTransformer\n",
    "from sklearn.feature_extraction.text import CountVectorizer, TfidfTransformer, HashingVectorizer\n",
    "\n",
    "from utils import *"
   ]
  },
  {
   "cell_type": "code",
   "execution_count": 15,
   "metadata": {},
   "outputs": [],
   "source": [
    "data = pd.read_csv('data/train.csv', index_col='id')\n",
    "\n",
    "data['keyword'] = data.keyword.apply(lambda x: str(x))\n",
    "data['location'] = data.location.apply(lambda x: str(x))\n",
    "\n",
    "X_train, X_validation, y_train, y_validation = train_test_split(\n",
    "    data.drop('target', axis=1), data.target, test_size=0.2\n",
    ")"
   ]
  },
  {
   "cell_type": "code",
   "execution_count": 16,
   "metadata": {},
   "outputs": [],
   "source": [
    "def make_categorical_numeric_encoder(feature):\n",
    "    categorical_numeric_encoder_ct = Pipeline(\n",
    "        [\n",
    "            ('t_{}'.format(feature), ColumnTransformer([('t_{}'.format(feature), LeaveOneOutEncoder(), feature)])),\n",
    "        ]\n",
    "    )\n",
    "    return categorical_numeric_encoder_ct"
   ]
  },
  {
   "cell_type": "code",
   "execution_count": 17,
   "metadata": {},
   "outputs": [],
   "source": [
    "meta_data_encoder = ColumnTransformer(\n",
    "    [\n",
    "        ('mean_word_len', FunctionTransformer(lambda x: mean_word_length(x)), 'text'),\n",
    "        ('tweet_length_t', FunctionTransformer(lambda x: tweet_length(x)), 'text')\n",
    "    ]\n",
    ")\n",
    "\n",
    "\n",
    "text_encoder = Pipeline(\n",
    "    [\n",
    "        ('word_tokenizer', ColumnTransformer([('words', FunctionTransformer(get_words), 'text')])),\n",
    "        ('stop_words_remover', FunctionTransformer(remove_stop_words)),\n",
    "        ('cleaned_strings', FunctionTransformer(replace_numbers_and_punctuation)),\n",
    "        ('count_vectorizer', CountVectorizer(ngram_range=(1, 1))),\n",
    "        ('tfidf', TfidfTransformer(use_idf=True)),\n",
    "    ]\n",
    ")\n",
    "\n",
    "keyword_encoder = make_categorical_numeric_encoder('keyword')\n",
    "location_encoder = make_categorical_numeric_encoder('keyword')"
   ]
  },
  {
   "cell_type": "code",
   "execution_count": 18,
   "metadata": {},
   "outputs": [],
   "source": [
    "feature_union_encoder = FeatureUnion(\n",
    "    [\n",
    "        ('meta_data_encoded', meta_data_encoder),\n",
    "        ('text_encoded', text_encoder),\n",
    "        ('keyword_encoded', keyword_encoder),\n",
    "        ('location_encoded', location_encoder)\n",
    "    ]\n",
    ")"
   ]
  },
  {
   "cell_type": "code",
   "execution_count": 19,
   "metadata": {},
   "outputs": [],
   "source": [
    "pipeline = Pipeline([\n",
    "    ('encode_data', feature_union_encoder),\n",
    "    ('classify', RandomForestClassifier())\n",
    "])\n",
    "\n",
    "param_grid = {'classify': [RandomForestClassifier(), GradientBoostingClassifier(), LogisticRegression(max_iter=500), Perceptron(max_iter=500)]}\n",
    "model = GridSearchCV(pipeline, param_grid)\n",
    "model.fit(X_train, y_train);"
   ]
  },
  {
   "cell_type": "code",
   "execution_count": 20,
   "metadata": {},
   "outputs": [
    {
     "data": {
      "text/plain": [
       "0.8089297439264609"
      ]
     },
     "execution_count": 20,
     "metadata": {},
     "output_type": "execute_result"
    }
   ],
   "source": [
    "accuracy_score(model.predict(X_validation), y_validation)"
   ]
  },
  {
   "cell_type": "code",
   "execution_count": 21,
   "metadata": {},
   "outputs": [
    {
     "data": {
      "image/png": "[encoded data removed]",
      "text/plain": [
       "<Figure size 432x288 with 1 Axes>"
      ]
     },
     "metadata": {
      "needs_background": "light"
     },
     "output_type": "display_data"
    }
   ],
   "source": [
    "plot_roc_curve(model, X_validation, y_validation)\n",
    "plt.plot([0, 1], [0, 1], color='red', lw=2, linestyle='--')\n",
    "plt.show()"
   ]
  },
  {
   "cell_type": "code",
   "execution_count": null,
   "metadata": {},
   "outputs": [],
   "source": []
  }
 ],
 "metadata": {
  "kernelspec": {
   "display_name": "Python 3",
   "language": "python",
   "name": "python3"
  },
  "language_info": {
   "codemirror_mode": {
    "name": "ipython",
    "version": 3
   },
   "file_extension": ".py",
   "mimetype": "text/x-python",
   "name": "python",
   "nbconvert_exporter": "python",
   "pygments_lexer": "ipython3",
   "version": "3.6.12"
  }
 },
 "nbformat": 4,
 "nbformat_minor": 4
}
